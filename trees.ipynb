{
  "nbformat": 4,
  "nbformat_minor": 0,
  "metadata": {
    "colab": {
      "name": "trees.ipynb",
      "provenance": [],
      "collapsed_sections": []
    },
    "kernelspec": {
      "name": "python3",
      "display_name": "Python 3"
    },
    "language_info": {
      "name": "python"
    }
  },
  "cells": [
    {
      "cell_type": "markdown",
      "metadata": {
        "id": "p7uN96T_xun0"
      },
      "source": [
        "# Machine Learning Assignment2 - ID3 Decision Tree\n",
        "By Zihao Cui 13483538"
      ]
    },
    {
      "cell_type": "markdown",
      "metadata": {
        "id": "TWsCcLmgtO2x"
      },
      "source": [
        "# GitHub Link"
      ]
    },
    {
      "cell_type": "code",
      "metadata": {
        "colab": {
          "base_uri": "https://localhost:8080/"
        },
        "id": "0nZ2Ga_iUj-O",
        "outputId": "ee710ba0-1904-4e76-ff3a-3b4ce9419ed7"
      },
      "source": [
        "!git clone https://github.com/czh2152215/ID3-decision-tree.git"
      ],
      "execution_count": null,
      "outputs": [
        {
          "output_type": "stream",
          "name": "stdout",
          "text": [
            "Cloning into 'ID3-decision-tree'...\n",
            "remote: Enumerating objects: 9, done.\u001b[K\n",
            "remote: Counting objects: 100% (9/9), done.\u001b[K\n",
            "remote: Compressing objects: 100% (7/7), done.\u001b[K\n",
            "remote: Total 9 (delta 2), reused 5 (delta 2), pack-reused 0\u001b[K\n",
            "Unpacking objects: 100% (9/9), done.\n"
          ]
        }
      ]
    },
    {
      "cell_type": "markdown",
      "metadata": {
        "id": "gbCWxRMstaxm"
      },
      "source": [
        "# Read File and Create DataSet"
      ]
    },
    {
      "cell_type": "code",
      "metadata": {
        "id": "SND3o4-4C4hm"
      },
      "source": [
        "import numpy as np\n",
        "import matplotlib.pyplot as plt\n",
        "import pandas as pd\n",
        "import math\n",
        "import copy\n",
        "def createDataSet_tennis():\n",
        "  dataset = pd.read_csv('./ID3-decision-tree/tennis.csv')\n",
        "  X = dataset.iloc[:, 1:].values\n",
        "  values = X.tolist()\n",
        "  labels = ['outlook', 'temp', 'humidity', 'wind']\n",
        "  return values, labels\n",
        "\n",
        "\n",
        "def createDataSet_vote():\n",
        "  dataset = pd.read_csv('./ID3-decision-tree/Vote.csv')\n",
        "  X = dataset.drop([1]).values\n",
        "  values = X.tolist()\n",
        "  labels = ['handicapped-infants', 'water-project-cost-sharing', 'adoption-of-the-budget-resolution', \n",
        "        'physician-fee-freeze','el-salvador-aid','religious-groups-in-schools','anti-satellite-test-ban',\n",
        "        'aid-to-nicaraguan-contras','mx-missile','export-administration-act-south-africa']\n",
        "  return values, labels"
      ],
      "execution_count": null,
      "outputs": []
    },
    {
      "cell_type": "markdown",
      "metadata": {
        "id": "kSs7P_YbtqRO"
      },
      "source": [
        "# Calculate Entropy"
      ]
    },
    {
      "cell_type": "code",
      "metadata": {
        "id": "1eRcwXZZC_IC"
      },
      "source": [
        "#Calculate information Entropy\n",
        "def calcEnt(dataSet):\n",
        "    numEntries = len(dataSet)\n",
        "    #Create dictionaries for categories\n",
        "    labelCounts = {}\n",
        "    for featVec in dataSet: #the the number of unique elements and their occurance\n",
        "        currentLabel = featVec[-1] #Get the last column of data\n",
        "        if currentLabel not in labelCounts.keys():\n",
        "            labelCounts.setdefault(currentLabel, 0)\n",
        "        labelCounts[currentLabel] += 1\n",
        "\n",
        "    #Calculate\n",
        "    inforEnt = 0.0\n",
        "    for key in labelCounts:\n",
        "        prob = float(labelCounts[key]) / numEntries\n",
        "        inforEnt += prob * math.log2(1 / prob) #log base 2\n",
        "    return inforEnt"
      ],
      "execution_count": null,
      "outputs": []
    },
    {
      "cell_type": "markdown",
      "metadata": {
        "id": "DhggGKUft5NY"
      },
      "source": [
        "# Classification of datasets by information gain"
      ]
    },
    {
      "cell_type": "code",
      "metadata": {
        "id": "JpH0NFyUDFS-"
      },
      "source": [
        "#Define the function splitDataSet to divide by a feature\n",
        "#Input three variables (dataset to be split, feature, classification value)\n",
        "def splitDataSet(dataSet, axis, value):\n",
        "    retDataSet = []\n",
        "    for featVec in dataSet:\n",
        "        if featVec[axis] == value:\n",
        "            reduceFeatVec = featVec[:axis] #chop out axis used for splitting\n",
        "            reduceFeatVec.extend(featVec[axis + 1:])\n",
        "            retDataSet.append(reduceFeatVec)\n",
        "    return retDataSet  #returns a subset of features without division\n",
        "\n",
        "def chooseBestFeatureToSplit(dataSet):\n",
        "    numFeature = len(dataSet[0]) - 1 #the last column is used for the labels\n",
        "    # print(numFeature)\n",
        "    baseEntropy = calcEnt(dataSet)\n",
        "    bestInforGain = 0\n",
        "    bestFeature = -1\n",
        "\n",
        "    for i in range(numFeature):  #iterate over all the features\n",
        "        featList = [number[i] for number in dataSet] #create a list of all the examples of this feature\n",
        "        uniqualVals = set(featList) #get a set of unique values\n",
        "        newEntrogy = 0\n",
        "\n",
        "        for value in uniqualVals:\n",
        "            subDataSet = splitDataSet(dataSet, i, value)\n",
        "            prob = len(subDataSet) / float(len(dataSet)) #which is p(xi)\n",
        "            newEntrogy += prob * calcEnt(subDataSet) #to various subsets seeking Information Entropy\n",
        "\n",
        "        infoGain = baseEntropy - newEntrogy  #calculate the info gain; ie reduction in entropy\n",
        "\n",
        "        # Maximum information gain\n",
        "        if infoGain > bestInforGain: #compare this to the best gain so far\n",
        "            bestInforGain = infoGain #if better than current best, set to best\n",
        "            bestFeature = i\n",
        "    return bestFeature #returns as an integer\n"
      ],
      "execution_count": null,
      "outputs": []
    },
    {
      "cell_type": "markdown",
      "metadata": {
        "id": "jzNkhu8_uDVu"
      },
      "source": [
        "# Create Tree"
      ]
    },
    {
      "cell_type": "code",
      "metadata": {
        "id": "A2C5JymoDHuY"
      },
      "source": [
        "def majorityCnt(classList):\n",
        "    classCount = {}\n",
        "    for vote in classList:\n",
        "        if vote not in classCount.keys():\n",
        "            classCount.setdefault(vote, 0)\n",
        "        classCount[vote] += 1\n",
        "    sortedClassCount = sorted(classCount.items(), key=lambda i:i[1], reverse=True)\n",
        "    return sortedClassCount[0][0]\n",
        "\n",
        "def createTree(dataSet, labels): #label is the name of features\n",
        "    classList = [example[-1] for example in dataSet]\n",
        "    if classList.count(classList[0]) == len(classList):\n",
        "        return classList[0] #stop splitting when all of the classes are equal\n",
        "\n",
        "    # Determine if all features have been traversed, \n",
        "    # and if so, return the category with the highest number of features\n",
        "    if len(dataSet[0]) == 1:\n",
        "        return majorityCnt(classList) #stop splitting when there are no more features in dataSet\n",
        "\n",
        "    #classify features according to highest information gain\n",
        "    bestFeat = chooseBestFeatureToSplit(dataSet) #Classify the feature\n",
        "    bestFeatLabel = labels[bestFeat]  #Lable of this feature\n",
        "    myTree = {bestFeatLabel: {}}\n",
        "    del (labels[bestFeat]) #remove this label\n",
        "\n",
        "    featValues = [example[bestFeat] for example in dataSet]\n",
        "    uniqueVals = set(featValues)\n",
        "    for value in uniqueVals:\n",
        "        subLabels = labels[:]  #copy all of labels, so trees don't mess up existing labels\n",
        "        #Constructing subsets of data with recursion\n",
        "        myTree[bestFeatLabel][value] = createTree(splitDataSet(dataSet, bestFeat, value), subLabels)\n",
        "    return myTree\n"
      ],
      "execution_count": null,
      "outputs": []
    },
    {
      "cell_type": "markdown",
      "metadata": {
        "id": "1GzwYMi-uGca"
      },
      "source": [
        "# Predict Data"
      ]
    },
    {
      "cell_type": "code",
      "metadata": {
        "id": "0oXCHc70FwFO"
      },
      "source": [
        "def classify(inputTree,featLabels,testVec):\n",
        "    firstStr = list(inputTree.keys())[0]\n",
        "    secondDict = inputTree[firstStr]\n",
        "    featIndex = featLabels.index(firstStr)\n",
        "    key = testVec[featIndex]\n",
        "    valueOfFeat = secondDict[key]\n",
        "    if isinstance(valueOfFeat, dict): \n",
        "        classLabel = classify(valueOfFeat, featLabels, testVec)\n",
        "    else: classLabel = valueOfFeat\n",
        "    return classLabel"
      ],
      "execution_count": null,
      "outputs": []
    },
    {
      "cell_type": "markdown",
      "metadata": {
        "id": "SDlpwVyhuLAt"
      },
      "source": [
        "# Build Plot Tree Diagram"
      ]
    },
    {
      "cell_type": "code",
      "metadata": {
        "id": "_d-sIMJT9smo"
      },
      "source": [
        "import matplotlib.pyplot as plt\n",
        "\n",
        "from pylab import *  \n",
        "decisionNode=dict(boxstyle='sawtooth',fc='0.8') #decision node\n",
        "leafNode=dict(boxstyle='round4',fc='0.8')#leaf node\n",
        "arrow_args=dict(arrowstyle='<-') #Arrow\n",
        "\n",
        "def plotNode(nodeTxt,centerPt,parentPt,nodeType):\n",
        "    createPlot.ax1.annotate(nodeTxt,xy=parentPt,xycoords='axes fraction',\n",
        "                xytext=centerPt,textcoords='axes fraction',\n",
        "                va='center',ha='center',bbox=nodeType,arrowprops=arrow_args)\n",
        "\n",
        "def createPlot():\n",
        "    fig=plt.figure(1,facecolor='white')\n",
        "    fig.clf()\n",
        "    createPlot.ax1=plt.subplot(111,frameon=False)\n",
        "    plotNode('Decision nodes',(0.5,0.1),(0.1,0.5),decisionNode)\n",
        "    plotNode('leaf nodes',(0.8,0.1),(0.3,0.8),leafNode)\n",
        "    plt.show()\n",
        "\n",
        "#Get the number of leaf nodes (breadth)\n",
        "def getNumLeafs(myTree):\n",
        "    numLeafs=0\n",
        "    firstStr=list(myTree.keys())[0]#'dict_keys' object does not support indexing\n",
        "    secondDict=myTree[firstStr]\n",
        "    for key in secondDict.keys():\n",
        "        if type(secondDict[key]).__name__=='dict':\n",
        "            numLeafs+=getNumLeafs(secondDict[key])\n",
        "        else:numLeafs+=1\n",
        "    return numLeafs\n",
        "\n",
        "#Functions to get the depth of a tree (depth)\n",
        "def getTreeDepth(myTree):\n",
        "    maxDepth=0\n",
        "    firstStr=list(myTree.keys())[0]\n",
        "    secondDict=myTree[firstStr]\n",
        "    for key in secondDict.keys():\n",
        "        if type(secondDict[key]).__name__=='dict':\n",
        "            thisDepth=1+getTreeDepth(secondDict[key])\n",
        "        else: thisDepth=1\n",
        "        if thisDepth > maxDepth:\n",
        "            maxDepth=thisDepth\n",
        "    return maxDepth\n",
        "\n",
        "#fills in text information between parent and child nodes\n",
        "def plotMidText(cntrPt,parentPt,txtString):\n",
        "    xMid=(parentPt[0]-cntrPt[0])/2+cntrPt[0]\n",
        "    yMid=(parentPt[1]-cntrPt[1])/2+cntrPt[1]\n",
        "    createPlot.ax1.text(xMid,yMid,txtString)\n",
        "\n",
        "#tree drawing    \n",
        "def plotTree(myTree,parentPt,nodeTxt):\n",
        "    numLeafs=getNumLeafs(myTree)\n",
        "    depth=getTreeDepth(myTree)\n",
        "    firstStr=list(myTree.keys())[0]\n",
        "    cntrPt=(plotTree.xOff+(1.0+float(numLeafs))/2/plotTree.totalW,plotTree.yOff)\n",
        "    plotMidText(cntrPt,parentPt,nodeTxt)\n",
        "    plotNode(firstStr,cntrPt,parentPt,decisionNode)\n",
        "    secondDict=myTree[firstStr]\n",
        "    plotTree.yOff=plotTree.yOff -1/plotTree.totalD\n",
        "    for key in secondDict.keys():\n",
        "        if type(secondDict[key]).__name__=='dict':\n",
        "            plotTree(secondDict[key],cntrPt,str(key))\n",
        "        else:\n",
        "            plotTree.xOff=plotTree.xOff+1.0/plotTree.totalW\n",
        "            plotNode(secondDict[key],(plotTree.xOff,plotTree.yOff),cntrPt,leafNode)\n",
        "            plotMidText((plotTree.xOff,plotTree.yOff),cntrPt,str(key))\n",
        "    plotTree.yOff=plotTree.yOff+1/plotTree.totalD\n",
        "\n",
        "#main function to call other functions   \n",
        "def createPlot(inTree):\n",
        "    fig=plt.figure(1,facecolor='white')\n",
        "    fig.clf()\n",
        "    axprops=dict(xticks=[],yticks=[])\n",
        "    createPlot.ax1=plt.subplot(111,frameon=False,**axprops)\n",
        "    plotTree.totalW=float(getNumLeafs(inTree))\n",
        "    plotTree.totalD=float(getTreeDepth(inTree))\n",
        "    plotTree.xOff=-0.5/plotTree.totalW;plotTree.yOff=1.0;\n",
        "    plotTree(inTree,(0.5,1.0),'')\n",
        "    plt.show()"
      ],
      "execution_count": null,
      "outputs": []
    },
    {
      "cell_type": "markdown",
      "metadata": {
        "id": "PwWcaVmpuYhz"
      },
      "source": [
        "# Vote DataSet "
      ]
    },
    {
      "cell_type": "code",
      "metadata": {
        "id": "qOqIZKV2Adjm",
        "colab": {
          "base_uri": "https://localhost:8080/"
        },
        "outputId": "7e33dbda-de08-4233-dada-30c3fa2d4366"
      },
      "source": [
        "myDat,labels = createDataSet_vote()\n",
        "myDat"
      ],
      "execution_count": null,
      "outputs": [
        {
          "output_type": "execute_result",
          "data": {
            "text/plain": [
              "[['y', 'y', 'n', 'y', 'y', 'y', 'n', 'n', 'n', 'n', 'republican'],\n",
              " ['n', 'y', 'y', 'y', 'y', 'y', 'n', 'n', 'n', 'n', 'democrat'],\n",
              " ['n', 'n', 'n', 'y', 'y', 'n', 'n', 'n', 'n', 'n', 'republican'],\n",
              " ['n', 'y', 'n', 'y', 'y', 'y', 'n', 'n', 'n', 'n', 'democrat'],\n",
              " ['n', 'n', 'n', 'y', 'y', 'y', 'n', 'n', 'n', 'n', 'republican'],\n",
              " ['n', 'n', 'n', 'y', 'y', 'y', 'n', 'n', 'n', 'n', 'republican'],\n",
              " ['n', 'n', 'n', 'y', 'y', 'y', 'n', 'n', 'n', 'n', 'republican'],\n",
              " ['n', 'n', 'n', 'y', 'y', 'y', 'n', 'n', 'n', 'n', 'republican'],\n",
              " ['n', 'n', 'n', 'y', 'y', 'y', 'n', 'n', 'n', 'n', 'republican'],\n",
              " ['n', 'n', 'n', 'y', 'y', 'y', 'n', 'n', 'n', 'n', 'republican'],\n",
              " ['n', 'n', 'n', 'y', 'y', 'y', 'n', 'n', 'n', 'n', 'republican'],\n",
              " ['n', 'n', 'n', 'y', 'y', 'y', 'n', 'n', 'n', 'n', 'republican'],\n",
              " ['n', 'y', 'n', 'y', 'y', 'y', 'n', 'n', 'n', 'n', 'republican'],\n",
              " ['n', 'y', 'n', 'y', 'y', 'y', 'n', 'n', 'n', 'n', 'republican'],\n",
              " ['n', 'y', 'n', 'y', 'y', 'y', 'n', 'n', 'n', 'n', 'republican'],\n",
              " ['n', 'y', 'n', 'y', 'y', 'y', 'n', 'n', 'n', 'n', 'republican'],\n",
              " ['n', 'y', 'n', 'y', 'y', 'y', 'n', 'n', 'n', 'n', 'republican'],\n",
              " ['n', 'y', 'n', 'y', 'y', 'y', 'n', 'n', 'n', 'n', 'republican'],\n",
              " ['y', 'y', 'n', 'y', 'y', 'y', 'y', 'n', 'n', 'n', 'republican'],\n",
              " ['n', 'n', 'n', 'y', 'y', 'y', 'n', 'n', 'n', 'n', 'democrat'],\n",
              " ['y', 'n', 'n', 'y', 'y', 'y', 'n', 'n', 'n', 'n', 'republican'],\n",
              " ['n', 'y', 'n', 'y', 'y', 'y', 'n', 'n', 'n', 'n', 'republican'],\n",
              " ['n', 'n', 'n', 'y', 'y', 'n', 'n', 'n', 'n', 'n', 'republican'],\n",
              " ['n', 'n', 'n', 'y', 'y', 'y', 'n', 'n', 'n', 'n', 'republican'],\n",
              " ['n', 'n', 'n', 'y', 'y', 'y', 'n', 'n', 'n', 'n', 'republican'],\n",
              " ['n', 'n', 'n', 'y', 'y', 'y', 'n', 'n', 'n', 'n', 'republican'],\n",
              " ['n', 'n', 'n', 'y', 'y', 'y', 'n', 'n', 'n', 'n', 'republican'],\n",
              " ['n', 'n', 'n', 'y', 'y', 'y', 'n', 'n', 'n', 'n', 'republican'],\n",
              " ['y', 'n', 'n', 'y', 'y', 'y', 'n', 'n', 'n', 'n', 'republican'],\n",
              " ['n', 'y', 'n', 'y', 'y', 'y', 'n', 'n', 'n', 'n', 'republican'],\n",
              " ['n', 'y', 'n', 'y', 'y', 'y', 'n', 'n', 'n', 'n', 'republican'],\n",
              " ['n', 'y', 'n', 'y', 'y', 'y', 'n', 'n', 'n', 'n', 'republican'],\n",
              " ['n', 'y', 'n', 'y', 'y', 'y', 'n', 'n', 'n', 'n', 'republican'],\n",
              " ['n', 'y', 'n', 'y', 'y', 'y', 'n', 'n', 'n', 'n', 'republican'],\n",
              " ['y', 'y', 'n', 'y', 'y', 'y', 'n', 'n', 'n', 'n', 'republican'],\n",
              " ['n', 'y', 'n', 'y', 'y', 'y', 'n', 'n', 'n', 'n', 'republican'],\n",
              " ['n', 'y', 'n', 'y', 'y', 'y', 'n', 'n', 'n', 'n', 'republican'],\n",
              " ['y', 'y', 'n', 'n', 'n', 'n', 'n', 'y', 'y', 'n', 'democrat'],\n",
              " ['n', 'n', 'n', 'y', 'y', 'y', 'n', 'n', 'n', 'n', 'republican'],\n",
              " ['y', 'y', 'n', 'n', 'y', 'y', 'n', 'n', 'n', 'n', 'democrat'],\n",
              " ['n', 'n', 'n', 'n', 'n', 'y', 'n', 'y', 'y', 'n', 'democrat'],\n",
              " ['n', 'n', 'n', 'y', 'y', 'y', 'n', 'n', 'n', 'n', 'republican'],\n",
              " ['y', 'n', 'y', 'n', 'y', 'y', 'n', 'n', 'n', 'y', 'democrat'],\n",
              " ['n', 'y', 'y', 'n', 'y', 'y', 'n', 'y', 'n', 'y', 'democrat'],\n",
              " ['y', 'n', 'y', 'n', 'n', 'n', 'y', 'y', 'y', 'y', 'democrat'],\n",
              " ['y', 'n', 'y', 'n', 'n', 'n', 'y', 'y', 'y', 'y', 'democrat'],\n",
              " ['y', 'n', 'y', 'n', 'n', 'n', 'y', 'y', 'y', 'y', 'democrat'],\n",
              " ['y', 'y', 'y', 'n', 'n', 'n', 'y', 'y', 'y', 'y', 'democrat'],\n",
              " ['y', 'y', 'y', 'n', 'n', 'n', 'y', 'y', 'y', 'y', 'democrat'],\n",
              " ['y', 'y', 'y', 'n', 'n', 'n', 'y', 'y', 'y', 'y', 'democrat'],\n",
              " ['y', 'y', 'y', 'n', 'n', 'n', 'y', 'y', 'y', 'y', 'democrat'],\n",
              " ['y', 'y', 'y', 'n', 'n', 'n', 'y', 'y', 'y', 'y', 'democrat'],\n",
              " ['y', 'y', 'y', 'n', 'n', 'n', 'y', 'y', 'n', 'y', 'democrat'],\n",
              " ['n', 'n', 'y', 'n', 'n', 'n', 'y', 'y', 'y', 'y', 'democrat'],\n",
              " ['y', 'n', 'y', 'n', 'n', 'n', 'y', 'y', 'y', 'y', 'democrat'],\n",
              " ['y', 'n', 'y', 'n', 'n', 'n', 'y', 'y', 'y', 'y', 'democrat'],\n",
              " ['y', 'n', 'y', 'n', 'n', 'n', 'y', 'y', 'y', 'y', 'democrat'],\n",
              " ['y', 'y', 'y', 'n', 'n', 'y', 'y', 'y', 'y', 'y', 'democrat'],\n",
              " ['y', 'y', 'y', 'n', 'y', 'y', 'n', 'y', 'y', 'y', 'democrat'],\n",
              " ['y', 'y', 'y', 'n', 'n', 'n', 'y', 'y', 'y', 'y', 'democrat'],\n",
              " ['y', 'n', 'y', 'n', 'n', 'y', 'y', 'y', 'y', 'y', 'democrat'],\n",
              " ['y', 'y', 'y', 'n', 'n', 'n', 'y', 'y', 'y', 'y', 'democrat'],\n",
              " ['n', 'n', 'y', 'n', 'n', 'y', 'y', 'y', 'y', 'y', 'democrat'],\n",
              " ['y', 'n', 'y', 'n', 'n', 'y', 'y', 'y', 'y', 'y', 'democrat'],\n",
              " ['y', 'y', 'y', 'n', 'n', 'n', 'y', 'y', 'y', 'y', 'democrat'],\n",
              " ['y', 'y', 'y', 'n', 'n', 'n', 'y', 'y', 'n', 'y', 'democrat'],\n",
              " ['y', 'n', 'y', 'n', 'y', 'y', 'y', 'n', 'n', 'y', 'democrat'],\n",
              " ['y', 'y', 'n', 'y', 'n', 'n', 'y', 'y', 'y', 'y', 'democrat'],\n",
              " ['n', 'n', 'y', 'y', 'y', 'y', 'y', 'y', 'n', 'y', 'republican'],\n",
              " ['n', 'n', 'n', 'y', 'y', 'n', 'y', 'n', 'y', 'y', 'republican'],\n",
              " ['n', 'n', 'y', 'n', 'n', 'y', 'n', 'y', 'y', 'y', 'democrat'],\n",
              " ['y', 'n', 'n', 'n', 'n', 'n', 'y', 'y', 'y', 'y', 'republican'],\n",
              " ['n', 'n', 'y', 'n', 'n', 'n', 'y', 'y', 'y', 'y', 'democrat'],\n",
              " ['n', 'n', 'y', 'n', 'n', 'y', 'y', 'y', 'y', 'y', 'democrat'],\n",
              " ['y', 'n', 'n', 'n', 'y', 'y', 'y', 'n', 'n', 'y', 'democrat'],\n",
              " ['y', 'n', 'y', 'n', 'n', 'n', 'y', 'y', 'y', 'y', 'democrat'],\n",
              " ['y', 'y', 'y', 'y', 'n', 'n', 'y', 'y', 'y', 'y', 'republican'],\n",
              " ['n', 'y', 'n', 'y', 'y', 'y', 'n', 'n', 'n', 'y', 'republican'],\n",
              " ['y', 'y', 'n', 'y', 'y', 'y', 'n', 'n', 'n', 'y', 'republican'],\n",
              " ['y', 'y', 'n', 'y', 'y', 'y', 'n', 'n', 'n', 'y', 'republican'],\n",
              " ['y', 'y', 'n', 'y', 'y', 'y', 'n', 'n', 'n', 'y', 'republican'],\n",
              " ['y', 'y', 'y', 'y', 'y', 'y', 'y', 'y', 'n', 'y', 'republican'],\n",
              " ['y', 'n', 'y', 'n', 'y', 'y', 'n', 'n', 'y', 'y', 'democrat'],\n",
              " ['y', 'n', 'y', 'y', 'y', 'n', 'y', 'n', 'y', 'y', 'republican'],\n",
              " ['n', 'y', 'y', 'n', 'n', 'y', 'n', 'y', 'y', 'y', 'democrat'],\n",
              " ['n', 'n', 'n', 'y', 'n', 'n', 'y', 'y', 'y', 'y', 'republican'],\n",
              " ['y', 'y', 'y', 'n', 'y', 'y', 'n', 'n', 'n', 'y', 'democrat'],\n",
              " ['n', 'y', 'y', 'n', 'y', 'y', 'y', 'n', 'y', 'y', 'democrat'],\n",
              " ['n', 'n', 'y', 'n', 'n', 'y', 'y', 'y', 'y', 'y', 'democrat'],\n",
              " ['n', 'n', 'y', 'n', 'n', 'y', 'y', 'y', 'y', 'y', 'democrat'],\n",
              " ['y', 'n', 'y', 'n', 'n', 'y', 'y', 'y', 'n', 'y', 'democrat'],\n",
              " ['n', 'y', 'n', 'y', 'y', 'y', 'n', 'n', 'n', 'y', 'republican'],\n",
              " ['y', 'y', 'y', 'n', 'n', 'y', 'y', 'y', 'y', 'y', 'democrat'],\n",
              " ['y', 'n', 'n', 'n', 'y', 'y', 'n', 'n', 'n', 'y', 'democrat'],\n",
              " ['n', 'n', 'n', 'y', 'y', 'y', 'n', 'n', 'n', 'y', 'republican'],\n",
              " ['n', 'n', 'n', 'y', 'y', 'y', 'n', 'n', 'n', 'y', 'republican'],\n",
              " ['n', 'n', 'n', 'y', 'y', 'y', 'n', 'n', 'n', 'y', 'republican'],\n",
              " ['n', 'n', 'n', 'y', 'y', 'y', 'n', 'n', 'n', 'y', 'republican'],\n",
              " ['n', 'n', 'n', 'y', 'y', 'y', 'n', 'n', 'n', 'y', 'republican'],\n",
              " ['n', 'n', 'n', 'y', 'y', 'n', 'n', 'n', 'n', 'y', 'republican'],\n",
              " ['n', 'n', 'n', 'y', 'y', 'y', 'n', 'n', 'n', 'y', 'republican'],\n",
              " ['n', 'n', 'n', 'y', 'y', 'y', 'n', 'n', 'n', 'y', 'republican'],\n",
              " ['n', 'n', 'n', 'y', 'y', 'y', 'n', 'n', 'n', 'y', 'republican'],\n",
              " ['n', 'n', 'n', 'y', 'y', 'y', 'n', 'n', 'n', 'y', 'republican'],\n",
              " ['n', 'n', 'n', 'y', 'y', 'y', 'n', 'n', 'n', 'y', 'republican'],\n",
              " ['n', 'y', 'n', 'y', 'y', 'y', 'n', 'n', 'n', 'y', 'republican'],\n",
              " ['n', 'y', 'n', 'y', 'y', 'y', 'n', 'n', 'n', 'y', 'republican'],\n",
              " ['n', 'y', 'n', 'y', 'y', 'y', 'n', 'n', 'n', 'y', 'republican'],\n",
              " ['n', 'y', 'n', 'y', 'y', 'y', 'n', 'n', 'n', 'y', 'republican'],\n",
              " ['n', 'y', 'n', 'y', 'y', 'y', 'n', 'n', 'n', 'y', 'republican'],\n",
              " ['n', 'y', 'n', 'y', 'y', 'y', 'n', 'n', 'n', 'y', 'republican'],\n",
              " ['n', 'y', 'n', 'y', 'y', 'y', 'n', 'n', 'n', 'y', 'republican'],\n",
              " ['n', 'y', 'n', 'y', 'y', 'y', 'n', 'n', 'n', 'y', 'republican'],\n",
              " ['y', 'y', 'y', 'y', 'y', 'n', 'y', 'n', 'n', 'y', 'republican'],\n",
              " ['n', 'n', 'n', 'n', 'y', 'y', 'y', 'n', 'n', 'y', 'democrat'],\n",
              " ['n', 'y', 'n', 'y', 'y', 'y', 'y', 'n', 'n', 'y', 'republican'],\n",
              " ['y', 'y', 'n', 'y', 'y', 'y', 'y', 'n', 'n', 'y', 'republican'],\n",
              " ['n', 'n', 'y', 'y', 'y', 'y', 'y', 'n', 'n', 'y', 'republican'],\n",
              " ['y', 'n', 'n', 'y', 'y', 'n', 'y', 'y', 'y', 'y', 'republican'],\n",
              " ['n', 'y', 'y', 'y', 'y', 'y', 'y', 'y', 'y', 'y', 'republican'],\n",
              " ['n', 'n', 'n', 'y', 'y', 'y', 'n', 'n', 'n', 'y', 'republican'],\n",
              " ['y', 'y', 'n', 'y', 'y', 'y', 'n', 'n', 'n', 'y', 'republican'],\n",
              " ['y', 'y', 'y', 'y', 'y', 'y', 'n', 'n', 'n', 'y', 'democrat'],\n",
              " ['n', 'y', 'y', 'n', 'y', 'y', 'y', 'n', 'n', 'y', 'democrat'],\n",
              " ['n', 'y', 'n', 'y', 'y', 'y', 'y', 'n', 'n', 'y', 'republican'],\n",
              " ['n', 'n', 'n', 'y', 'y', 'y', 'n', 'n', 'n', 'y', 'republican'],\n",
              " ['n', 'n', 'n', 'y', 'y', 'y', 'n', 'n', 'n', 'y', 'republican'],\n",
              " ['n', 'n', 'n', 'y', 'y', 'y', 'n', 'n', 'n', 'y', 'republican'],\n",
              " ['n', 'n', 'n', 'y', 'y', 'y', 'n', 'n', 'n', 'y', 'republican'],\n",
              " ['n', 'y', 'n', 'y', 'y', 'y', 'n', 'n', 'n', 'y', 'republican'],\n",
              " ['n', 'y', 'n', 'y', 'y', 'y', 'n', 'n', 'n', 'y', 'republican'],\n",
              " ['n', 'y', 'n', 'y', 'y', 'y', 'n', 'n', 'n', 'y', 'republican'],\n",
              " ['n', 'y', 'n', 'y', 'y', 'y', 'n', 'n', 'n', 'y', 'republican'],\n",
              " ['y', 'y', 'n', 'y', 'y', 'y', 'n', 'n', 'n', 'y', 'republican'],\n",
              " ['y', 'y', 'n', 'y', 'y', 'y', 'n', 'n', 'n', 'y', 'republican'],\n",
              " ['y', 'y', 'n', 'y', 'y', 'y', 'n', 'n', 'n', 'y', 'republican'],\n",
              " ['n', 'y', 'y', 'y', 'y', 'y', 'n', 'n', 'n', 'y', 'republican'],\n",
              " ['n', 'n', 'n', 'y', 'y', 'y', 'y', 'n', 'n', 'y', 'republican'],\n",
              " ['n', 'n', 'n', 'y', 'y', 'y', 'y', 'y', 'n', 'y', 'republican'],\n",
              " ['n', 'y', 'n', 'y', 'y', 'y', 'n', 'n', 'y', 'y', 'republican'],\n",
              " ['n', 'n', 'y', 'y', 'y', 'y', 'n', 'n', 'y', 'y', 'republican'],\n",
              " ['n', 'y', 'y', 'y', 'y', 'y', 'y', 'n', 'y', 'y', 'republican'],\n",
              " ['n', 'n', 'n', 'y', 'y', 'n', 'y', 'y', 'y', 'y', 'republican'],\n",
              " ['n', 'n', 'n', 'y', 'y', 'y', 'y', 'y', 'y', 'y', 'republican'],\n",
              " ['n', 'n', 'n', 'n', 'y', 'y', 'n', 'n', 'n', 'y', 'democrat'],\n",
              " ['n', 'n', 'y', 'n', 'y', 'y', 'n', 'n', 'n', 'y', 'democrat'],\n",
              " ['n', 'y', 'n', 'y', 'y', 'y', 'n', 'n', 'n', 'y', 'republican'],\n",
              " ['n', 'y', 'n', 'y', 'y', 'y', 'n', 'n', 'n', 'y', 'republican'],\n",
              " ['n', 'n', 'y', 'y', 'y', 'y', 'y', 'n', 'n', 'y', 'republican'],\n",
              " ['n', 'y', 'y', 'y', 'y', 'y', 'n', 'y', 'y', 'y', 'democrat'],\n",
              " ['n', 'n', 'y', 'n', 'n', 'n', 'y', 'y', 'y', 'y', 'democrat'],\n",
              " ['n', 'n', 'y', 'n', 'n', 'n', 'y', 'y', 'y', 'y', 'democrat'],\n",
              " ['n', 'n', 'y', 'n', 'n', 'n', 'y', 'y', 'y', 'y', 'democrat'],\n",
              " ['y', 'n', 'y', 'n', 'n', 'n', 'y', 'y', 'y', 'y', 'democrat'],\n",
              " ['y', 'n', 'y', 'n', 'n', 'n', 'y', 'y', 'y', 'y', 'democrat'],\n",
              " ['y', 'n', 'y', 'n', 'n', 'n', 'y', 'y', 'y', 'y', 'democrat'],\n",
              " ['y', 'y', 'y', 'n', 'n', 'n', 'y', 'y', 'y', 'y', 'democrat'],\n",
              " ['y', 'y', 'y', 'n', 'n', 'n', 'y', 'y', 'y', 'y', 'democrat'],\n",
              " ['y', 'y', 'y', 'n', 'n', 'n', 'y', 'y', 'y', 'y', 'democrat'],\n",
              " ['y', 'y', 'y', 'n', 'n', 'n', 'y', 'y', 'y', 'y', 'democrat'],\n",
              " ['y', 'y', 'y', 'n', 'n', 'n', 'y', 'y', 'y', 'y', 'democrat'],\n",
              " ['n', 'n', 'y', 'n', 'n', 'y', 'y', 'y', 'y', 'y', 'democrat'],\n",
              " ['y', 'n', 'y', 'n', 'n', 'y', 'y', 'y', 'y', 'y', 'democrat'],\n",
              " ['y', 'y', 'y', 'n', 'n', 'y', 'y', 'y', 'y', 'y', 'democrat'],\n",
              " ['n', 'y', 'n', 'n', 'n', 'y', 'y', 'n', 'y', 'y', 'democrat'],\n",
              " ['y', 'y', 'y', 'n', 'n', 'n', 'n', 'y', 'y', 'y', 'democrat'],\n",
              " ['n', 'n', 'y', 'n', 'n', 'n', 'y', 'y', 'y', 'y', 'democrat'],\n",
              " ['n', 'n', 'y', 'n', 'n', 'n', 'y', 'y', 'y', 'y', 'democrat'],\n",
              " ['y', 'n', 'y', 'n', 'n', 'n', 'y', 'y', 'y', 'y', 'democrat'],\n",
              " ['y', 'n', 'y', 'n', 'n', 'n', 'y', 'y', 'y', 'y', 'democrat'],\n",
              " ['y', 'y', 'y', 'n', 'n', 'n', 'y', 'y', 'y', 'y', 'democrat'],\n",
              " ['y', 'y', 'y', 'n', 'n', 'n', 'y', 'y', 'y', 'y', 'democrat'],\n",
              " ['y', 'y', 'y', 'n', 'n', 'n', 'y', 'y', 'y', 'y', 'democrat'],\n",
              " ['y', 'y', 'y', 'n', 'n', 'n', 'y', 'y', 'y', 'y', 'democrat'],\n",
              " ['n', 'n', 'y', 'n', 'n', 'y', 'y', 'y', 'y', 'y', 'democrat'],\n",
              " ['n', 'y', 'y', 'n', 'n', 'y', 'y', 'y', 'n', 'y', 'democrat'],\n",
              " ['y', 'n', 'y', 'n', 'n', 'n', 'n', 'y', 'y', 'y', 'democrat'],\n",
              " ['y', 'n', 'n', 'n', 'n', 'n', 'y', 'y', 'y', 'y', 'democrat'],\n",
              " ['n', 'n', 'y', 'n', 'n', 'n', 'y', 'y', 'y', 'y', 'democrat'],\n",
              " ['y', 'n', 'y', 'n', 'n', 'n', 'y', 'y', 'y', 'y', 'democrat'],\n",
              " ['y', 'n', 'y', 'n', 'n', 'n', 'y', 'y', 'y', 'y', 'democrat'],\n",
              " ['y', 'n', 'y', 'n', 'n', 'n', 'y', 'y', 'y', 'y', 'democrat'],\n",
              " ['y', 'n', 'y', 'n', 'n', 'n', 'y', 'y', 'y', 'y', 'democrat'],\n",
              " ['y', 'n', 'y', 'n', 'n', 'n', 'y', 'y', 'y', 'y', 'democrat'],\n",
              " ['n', 'y', 'y', 'n', 'n', 'n', 'y', 'y', 'y', 'y', 'democrat'],\n",
              " ['y', 'y', 'y', 'n', 'n', 'n', 'y', 'y', 'y', 'y', 'democrat'],\n",
              " ['y', 'n', 'y', 'n', 'n', 'n', 'y', 'n', 'y', 'y', 'democrat'],\n",
              " ['n', 'y', 'y', 'n', 'n', 'n', 'n', 'y', 'y', 'y', 'democrat'],\n",
              " ['n', 'y', 'n', 'n', 'n', 'n', 'y', 'y', 'y', 'y', 'democrat'],\n",
              " ['n', 'n', 'y', 'n', 'n', 'n', 'y', 'y', 'y', 'y', 'democrat'],\n",
              " ['n', 'n', 'y', 'n', 'n', 'n', 'y', 'y', 'y', 'y', 'democrat'],\n",
              " ['n', 'n', 'y', 'n', 'n', 'n', 'y', 'y', 'y', 'y', 'democrat'],\n",
              " ['y', 'n', 'y', 'n', 'n', 'n', 'y', 'y', 'y', 'y', 'democrat'],\n",
              " ['y', 'n', 'y', 'n', 'n', 'n', 'y', 'y', 'y', 'y', 'democrat'],\n",
              " ['n', 'y', 'y', 'n', 'n', 'n', 'y', 'y', 'y', 'y', 'democrat'],\n",
              " ['n', 'n', 'y', 'n', 'n', 'y', 'y', 'y', 'y', 'y', 'democrat'],\n",
              " ['y', 'n', 'y', 'n', 'n', 'y', 'y', 'y', 'y', 'y', 'democrat'],\n",
              " ['y', 'y', 'y', 'n', 'y', 'y', 'n', 'y', 'n', 'y', 'democrat']]"
            ]
          },
          "metadata": {},
          "execution_count": 8
        }
      ]
    },
    {
      "cell_type": "code",
      "metadata": {
        "id": "iR6UAzExAvNH",
        "colab": {
          "base_uri": "https://localhost:8080/"
        },
        "outputId": "b01a11cc-941b-4491-9614-33a2364e2ad2"
      },
      "source": [
        "calcEnt(myDat)"
      ],
      "execution_count": null,
      "outputs": [
        {
          "output_type": "execute_result",
          "data": {
            "text/plain": [
              "0.999926399368686"
            ]
          },
          "metadata": {},
          "execution_count": 9
        }
      ]
    },
    {
      "cell_type": "code",
      "metadata": {
        "id": "95vM2d7iUr9G",
        "colab": {
          "base_uri": "https://localhost:8080/"
        },
        "outputId": "fc98ecc1-ce69-4b14-e42e-6e9d98e012e9"
      },
      "source": [
        "voteTree=createTree(myDat,labels)\n",
        "voteTree"
      ],
      "execution_count": null,
      "outputs": [
        {
          "output_type": "execute_result",
          "data": {
            "text/plain": [
              "{'physician-fee-freeze': {'n': {'adoption-of-the-budget-resolution': {'n': {'religious-groups-in-schools': {'n': {'water-project-cost-sharing': {'n': {'export-administration-act-south-africa': {'democrat': 'democrat',\n",
              "          'republican': 'republican'}},\n",
              "        'y': 'democrat'}},\n",
              "      'y': 'democrat'}},\n",
              "    'y': 'democrat'}},\n",
              "  'y': {'adoption-of-the-budget-resolution': {'n': {'el-salvador-aid': {'n': {'handicapped-infants': {'n': 'republican',\n",
              "        'y': 'democrat'}},\n",
              "      'y': {'export-administration-act-south-africa': {'n': {'handicapped-infants': {'n': {'religious-groups-in-schools': {'n': 'republican',\n",
              "            'y': {'water-project-cost-sharing': {'n': {'mx-missile': {'democrat': 'democrat',\n",
              "                'republican': 'republican'}},\n",
              "              'y': {'mx-missile': {'democrat': 'democrat',\n",
              "                'republican': 'republican'}}}}}},\n",
              "          'y': 'republican'}},\n",
              "        'y': 'republican'}}}},\n",
              "    'y': {'anti-satellite-test-ban': {'n': {'water-project-cost-sharing': {'n': 'republican',\n",
              "        'y': {'handicapped-infants': {'n': {'aid-to-nicaraguan-contras': {'n': {'export-administration-act-south-africa': {'n': 'democrat',\n",
              "              'y': 'republican'}},\n",
              "            'y': 'democrat'}},\n",
              "          'y': 'democrat'}}}},\n",
              "      'y': 'republican'}}}}}}"
            ]
          },
          "metadata": {},
          "execution_count": 10
        }
      ]
    },
    {
      "cell_type": "code",
      "metadata": {
        "id": "o_4obgHuU5S4",
        "colab": {
          "base_uri": "https://localhost:8080/",
          "height": 258
        },
        "outputId": "57714a3b-553a-4063-d1e9-cf3ff3500008"
      },
      "source": [
        "createPlot(voteTree)"
      ],
      "execution_count": null,
      "outputs": [
        {
          "output_type": "display_data",
          "data": {
            "image/png": "[encoded data removed]",
            "text/plain": [
              "<Figure size 432x288 with 1 Axes>"
            ]
          },
          "metadata": {}
        }
      ]
    },
    {
      "cell_type": "code",
      "metadata": {
        "id": "oU9IDcUqqnzB",
        "colab": {
          "base_uri": "https://localhost:8080/"
        },
        "outputId": "146d0e0b-c929-4d1a-a3e2-f1c42a999705"
      },
      "source": [
        "dataset = pd.read_csv('./ID3-decision-tree/Vote_pre.csv',header=None)\n",
        "Y = dataset.drop([10],axis=1)\n",
        "X = Y.values\n",
        "tests = X.tolist()\n",
        "labels = ['handicapped-infants', 'water-project-cost-sharing', 'adoption-of-the-budget-resolution', \n",
        "      'physician-fee-freeze','el-salvador-aid','religious-groups-in-schools','anti-satellite-test-ban',\n",
        "      'aid-to-nicaraguan-contras','mx-missile','export-administration-act-south-africa']\n",
        "for test in tests:\n",
        "  print(classify(voteTree,labels,test))"
      ],
      "execution_count": null,
      "outputs": [
        {
          "output_type": "stream",
          "name": "stdout",
          "text": [
            "democrat\n",
            "democrat\n",
            "democrat\n",
            "democrat\n",
            "democrat\n",
            "democrat\n",
            "democrat\n",
            "democrat\n",
            "democrat\n",
            "democrat\n",
            "democrat\n",
            "republican\n",
            "republican\n",
            "republican\n",
            "democrat\n",
            "democrat\n",
            "republican\n",
            "democrat\n",
            "democrat\n",
            "democrat\n",
            "democrat\n",
            "democrat\n",
            "democrat\n",
            "democrat\n",
            "democrat\n",
            "republican\n",
            "republican\n",
            "republican\n",
            "democrat\n",
            "republican\n",
            "republican\n"
          ]
        }
      ]
    },
    {
      "cell_type": "markdown",
      "metadata": {
        "id": "V4d6EZisugWe"
      },
      "source": [
        "# Tennis DataSet"
      ]
    },
    {
      "cell_type": "code",
      "metadata": {
        "colab": {
          "base_uri": "https://localhost:8080/"
        },
        "id": "uvWDVM1S_Ooe",
        "outputId": "556da774-f094-490b-f2a6-f987f083e679"
      },
      "source": [
        "myDat,labels = createDataSet_tennis()\n",
        "calcEnt(myDat)"
      ],
      "execution_count": null,
      "outputs": [
        {
          "output_type": "execute_result",
          "data": {
            "text/plain": [
              "0.9402859586706309"
            ]
          },
          "metadata": {},
          "execution_count": 13
        }
      ]
    },
    {
      "cell_type": "code",
      "metadata": {
        "colab": {
          "base_uri": "https://localhost:8080/",
          "height": 258
        },
        "id": "O2DsPoATAJH8",
        "outputId": "a551e5ec-d5a7-4551-d629-aa8890b57d21"
      },
      "source": [
        "tennisTree=createTree(myDat,labels)\n",
        "createPlot(tennisTree)"
      ],
      "execution_count": null,
      "outputs": [
        {
          "output_type": "display_data",
          "data": {
            "image/png": "[encoded data removed]",
            "text/plain": [
              "<Figure size 432x288 with 1 Axes>"
            ]
          },
          "metadata": {}
        }
      ]
    },
    {
      "cell_type": "code",
      "metadata": {
        "colab": {
          "base_uri": "https://localhost:8080/"
        },
        "id": "v6CFEltIwqhP",
        "outputId": "de2e048b-a361-47da-e25a-67225c973e96"
      },
      "source": [
        "tennisTree"
      ],
      "execution_count": null,
      "outputs": [
        {
          "output_type": "execute_result",
          "data": {
            "text/plain": [
              "{'outlook': {'Overcast': 'Yes',\n",
              "  'Rain': {'wind': {'Strong': 'No', 'Weak': 'Yes'}},\n",
              "  'Sunny': {'humidity': {'High': 'No', 'Normal': 'Yes'}}}}"
            ]
          },
          "metadata": {},
          "execution_count": 15
        }
      ]
    },
    {
      "cell_type": "code",
      "metadata": {
        "colab": {
          "base_uri": "https://localhost:8080/"
        },
        "id": "L5Pqud74AwXW",
        "outputId": "00c144b5-2a8c-46a6-b0dc-37924f6dce03"
      },
      "source": [
        "labels = ['outlook', 'temp', 'humidity', 'wind']\n",
        "dataset = pd.read_csv('./ID3-decision-tree/tennis_pre.csv',header=None)\n",
        "Y = dataset.drop([4],axis=1)\n",
        "X = Y.values\n",
        "tests = X.tolist()\n",
        "\n",
        "for test in tests:\n",
        "  print(classify(tennisTree,labels,test))"
      ],
      "execution_count": null,
      "outputs": [
        {
          "output_type": "stream",
          "name": "stdout",
          "text": [
            "Yes\n",
            "Yes\n",
            "Yes\n",
            "No\n",
            "Yes\n"
          ]
        }
      ]
    }
  ]
}